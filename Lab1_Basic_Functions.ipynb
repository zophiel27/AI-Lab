{
  "nbformat": 4,
  "nbformat_minor": 0,
  "metadata": {
    "colab": {
      "provenance": []
    },
    "kernelspec": {
      "name": "python3",
      "display_name": "Python 3"
    },
    "language_info": {
      "name": "python"
    }
  },
  "cells": [
    {
      "cell_type": "markdown",
      "source": [
        "Q1 - Reverse of String"
      ],
      "metadata": {
        "id": "4v3myIpf_exY"
      }
    },
    {
      "cell_type": "code",
      "execution_count": null,
      "metadata": {
        "colab": {
          "base_uri": "https://localhost:8080/"
        },
        "id": "riQqxpzv5_wg",
        "outputId": "37b66b6c-5182-40c0-f46d-dece486d8a9a"
      },
      "outputs": [
        {
          "output_type": "stream",
          "name": "stdout",
          "text": [
            "Enter a string: \n",
            "hellooo\n",
            "Before Reverse: \n",
            "['h', 'e', 'l', 'l', 'o', 'o', 'o']\n",
            "After Reverse: \n",
            "['o', 'o', 'o', 'l', 'l', 'e', 'h']\n"
          ]
        }
      ],
      "source": [
        "def reverseString(ls):\n",
        "  i = 0\n",
        "  while(i < len(ls)/2):\n",
        "    x = ls[i]\n",
        "    ls[i] = ls[len(ls)-i-1]\n",
        "    ls[len(ls)-i-1] = x\n",
        "    i = i + 1\n",
        "\n",
        "print(\"Enter a string: \")\n",
        "ls = list(input())\n",
        "print(\"Before Reverse: \")\n",
        "print(ls)\n",
        "reverseString(ls)\n",
        "print(\"After Reverse: \")\n",
        "print(ls)"
      ]
    },
    {
      "cell_type": "markdown",
      "source": [
        "Q2 - Palindrome of the characters only"
      ],
      "metadata": {
        "id": "B2boS-Mx_gzf"
      }
    },
    {
      "cell_type": "code",
      "source": [
        "def validPalindrome(ls):\n",
        "  i = 0\n",
        "  j = len(ls)-1\n",
        "  ls = ls.lower()\n",
        "\n",
        "  while(i < len(ls)/2):\n",
        "    while ls[i] == \" \" or ls[i] == \",\" or ls[i] == \":\":\n",
        "      i = i + 1\n",
        "    while ls[j] == \" \" or ls[j] == \",\" or ls[j] == \":\":\n",
        "      j = j - 1\n",
        "    if(ls[i] != ls[j]):\n",
        "      return False\n",
        "    i = i + 1\n",
        "    j = j - 1\n",
        "  return True\n",
        "\n",
        "\n",
        "s = \"A man, a plan, a canal: Panama\"\n",
        "output = validPalindrome(s)\n",
        "print(output)\n"
      ],
      "metadata": {
        "colab": {
          "base_uri": "https://localhost:8080/"
        },
        "id": "T-F7F6nr_dM5",
        "outputId": "317cdab5-62e9-4962-a7ba-0736c1ce3ab5"
      },
      "execution_count": null,
      "outputs": [
        {
          "output_type": "stream",
          "name": "stdout",
          "text": [
            "True\n"
          ]
        }
      ]
    },
    {
      "cell_type": "markdown",
      "source": [
        "Q3 - Square root of a number in whole number"
      ],
      "metadata": {
        "id": "We_BMfsMFXES"
      }
    },
    {
      "cell_type": "code",
      "source": [
        "def sqrt(x):\n",
        "  x = int(x) ** 0.5\n",
        "  return x\n",
        "\n",
        "x = input()\n",
        "output = sqrt(x)\n",
        "print(\"Square Root: \")\n",
        "print(int(output))\n"
      ],
      "metadata": {
        "colab": {
          "base_uri": "https://localhost:8080/"
        },
        "id": "WhwXlYt3FPmz",
        "outputId": "167c9e70-37df-4d10-a18f-c4104e275f18"
      },
      "execution_count": null,
      "outputs": [
        {
          "output_type": "stream",
          "name": "stdout",
          "text": [
            "8\n",
            "Square Root: \n",
            "2\n"
          ]
        }
      ]
    }
  ]
}