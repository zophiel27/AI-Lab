{
  "nbformat": 4,
  "nbformat_minor": 0,
  "metadata": {
    "colab": {
      "provenance": []
    },
    "kernelspec": {
      "name": "python3",
      "display_name": "Python 3"
    },
    "language_info": {
      "name": "python"
    }
  },
  "cells": [
    {
      "cell_type": "markdown",
      "source": [
        "Question 5.1"
      ],
      "metadata": {
        "id": "oWeV6LaRKytp"
      }
    },
    {
      "cell_type": "code",
      "execution_count": null,
      "metadata": {
        "colab": {
          "base_uri": "https://localhost:8080/"
        },
        "id": "uc171sApH3Cf",
        "outputId": "35a60f3c-2245-440f-9e0a-39168c524731"
      },
      "outputs": [
        {
          "output_type": "stream",
          "name": "stdout",
          "text": [
            "[0, 9, 36, 81]\n"
          ]
        }
      ],
      "source": [
        "# Check if a given element in a list is divisible by 3 or not\n",
        "def checkDivisibility(ls):\n",
        "  output = []\n",
        "  for x in ls:\n",
        "    if(x%3==False):\n",
        "      output.append(x)\n",
        "  return output\n",
        "\n",
        "#main\n",
        "ls= [0, 1, 4, 9, 16, 25, 36, 49, 64, 81]\n",
        "out = checkDivisibility(ls)\n",
        "print(out)"
      ]
    },
    {
      "cell_type": "markdown",
      "source": [
        "Question 5.2"
      ],
      "metadata": {
        "id": "Sx4PUl0uKyOu"
      }
    },
    {
      "cell_type": "code",
      "source": [
        "# Given 2 strings, a and b, return a string of the form: a-front + b-front + a-back + b-back\n",
        "def frontBack(s1, s2):\n",
        "  output= \"\"\n",
        "  output+= s1[:-(len(s1)//2)]\n",
        "  output+= s2[:-(len(s2)//2)]\n",
        "  output+= s1[-(len(s1)//2):]\n",
        "  output+= s2[-(len(s2)//2):]\n",
        "  return output\n",
        "\n",
        "#main\n",
        "input1 = \"abcde\"\n",
        "input2= \"pqrst\"\n",
        "output = frontBack(input1, input2)\n",
        "print(output)"
      ],
      "metadata": {
        "colab": {
          "base_uri": "https://localhost:8080/"
        },
        "id": "X3T-8lOjK4ee",
        "outputId": "18092eaf-b126-40df-b252-92a5616fddca"
      },
      "execution_count": null,
      "outputs": [
        {
          "output_type": "stream",
          "name": "stdout",
          "text": [
            "abcpqrdest\n"
          ]
        }
      ]
    },
    {
      "cell_type": "markdown",
      "source": [
        "Question 5.3"
      ],
      "metadata": {
        "id": "6nVdW9hYKcNH"
      }
    },
    {
      "cell_type": "code",
      "source": [
        "# Transpose of a matrix\n",
        "def transpose(X):\n",
        "  result = [[X[j][i] for j in range(len(X))] for i in range(len(X[0]))]\n",
        "  return result\n",
        "\n",
        "#main\n",
        "matrix = [[1,2,3],\n",
        "          [4,5,6],\n",
        "          [7,8,9]]\n",
        "output = transpose(matrix)\n",
        "for i in output:\n",
        "   print(i)"
      ],
      "metadata": {
        "colab": {
          "base_uri": "https://localhost:8080/"
        },
        "id": "yUNSXxaHKghL",
        "outputId": "7562ba9a-a3f6-4d6f-a56a-61c876cecb82"
      },
      "execution_count": 3,
      "outputs": [
        {
          "output_type": "stream",
          "name": "stdout",
          "text": [
            "[1, 4, 7]\n",
            "[2, 5, 8]\n",
            "[3, 6, 9]\n"
          ]
        }
      ]
    },
    {
      "cell_type": "markdown",
      "source": [
        "Question 5.4"
      ],
      "metadata": {
        "id": "vWmKngm-Mhff"
      }
    },
    {
      "cell_type": "code",
      "source": [
        "# Sort a tuple of tuples by 2nd item\n",
        "#main\n",
        "tuple1 = (('a', 23),\n",
        "          ('c', 37),\n",
        "          ('b', 11),\n",
        "          ('d', 29))\n",
        "\n",
        "print(sorted(tuple1, key = lambda x: x[1])) #key becomes function and takes parameter x(tuple) and returns its 2nd digit or value (x[1])"
      ],
      "metadata": {
        "colab": {
          "base_uri": "https://localhost:8080/"
        },
        "id": "XooQHp9AMj1W",
        "outputId": "d934c76a-51d4-4657-dd83-fb5d7cb7f4b8"
      },
      "execution_count": 51,
      "outputs": [
        {
          "output_type": "stream",
          "name": "stdout",
          "text": [
            "[('b', 11), ('a', 23), ('d', 29), ('c', 37)]\n"
          ]
        }
      ]
    },
    {
      "cell_type": "markdown",
      "source": [
        "Question 5.5"
      ],
      "metadata": {
        "id": "lRxyfgRVUwAH"
      }
    },
    {
      "cell_type": "code",
      "source": [
        "# Write a function which returns a tuple that is formed by multiplying adjacent elements\n",
        "\n",
        "def multiplyAdjacent(t):\n",
        "  # Using the tuple() method to make a tuple\n",
        "  return tuple(x * y for x, y in zip(t, t[1:])) #t[:1] so it doesnt go out of bounds when it gets to the end two elements\n",
        "  # if t is [1, 2, 3], then zip(t, t[1:]) will give pairs = [(1, 2), (2, 3)]\n",
        "  # t is assumed to be an iterable, like a list or a tuple\n",
        "  # t[1:] creates a new iterable that includes all elements of t starting from the second element (index 1) to the end\n",
        "\n",
        "tuple1 = (1, 5, 7, 8, 10)\n",
        "output = multiplyAdjacent(tuple1)\n",
        "print(output)\n"
      ],
      "metadata": {
        "colab": {
          "base_uri": "https://localhost:8080/"
        },
        "id": "hWTYISYtU3b-",
        "outputId": "2b08ed23-823b-40ff-d2cf-e5edf815d170"
      },
      "execution_count": 42,
      "outputs": [
        {
          "output_type": "stream",
          "name": "stdout",
          "text": [
            "(5, 35, 56, 80)\n"
          ]
        }
      ]
    },
    {
      "cell_type": "markdown",
      "source": [
        "Question 5.6"
      ],
      "metadata": {
        "id": "mPHY6tvocSOT"
      }
    },
    {
      "cell_type": "code",
      "source": [
        "# Write a function which constructs a dictionary where its keys are the integer\n",
        "# factors and values are the count of those factors when applied on a list of elements\n",
        "def factorCount(ls):\n",
        "\n",
        "  # assigning keys uptil the highest number in list\n",
        "  factor_dict = {i: 0 for i in range(1, max(ls) + 1)}\n",
        "\n",
        "  for num in ls:\n",
        "      for factor in range(1, num + 1):\n",
        "          if num % factor == 0:\n",
        "              factor_dict[factor] += 1\n",
        "\n",
        "  return factor_dict\n",
        "\n",
        "#main\n",
        "ls = [2, 4, 6, 8]\n",
        "d = factorCount(ls)\n",
        "print(d)"
      ],
      "metadata": {
        "colab": {
          "base_uri": "https://localhost:8080/"
        },
        "id": "VnNA__RecT8e",
        "outputId": "8c55ce60-fbb1-4d71-bc20-1ec83251dc7e"
      },
      "execution_count": 61,
      "outputs": [
        {
          "output_type": "stream",
          "name": "stdout",
          "text": [
            "{1: 4, 2: 4, 3: 1, 4: 2, 5: 0, 6: 1, 7: 0, 8: 1}\n"
          ]
        }
      ]
    },
    {
      "cell_type": "markdown",
      "source": [
        "Question 5.7"
      ],
      "metadata": {
        "id": "e6SlI6k3mNd7"
      }
    },
    {
      "cell_type": "code",
      "source": [
        "# Develop a function to represent the given information in table in the form of tuple.\n",
        "# Develop a function that examines each block, multiplies shares by purchase price and shares by\n",
        "# current price to determine the total amount gained or lost.\n",
        "\n",
        "def computeAmount(stocks):\n",
        "  i = 0\n",
        "  for x in stocks:\n",
        "    amount = x[2]*x[4]-x[2]*x[1]\n",
        "    print(stocks[i][len(stocks)-1]+\"\\t$\"+str(amount))\n",
        "    i = i + 1\n",
        "\n",
        "#main\n",
        "stocks = (\n",
        "    (\"25 Jan 2001\", 43.50, 25, \"CAT\", 92.45),\n",
        "    (\"25 Jan 2001\", 42.80, 50, \"DD\", 51.19),\n",
        "    (\"25 Jan 2001\", 42.10, 75, \"EK\", 34.87),\n",
        "    (\"25 Jan 2001\", 37.58, 100, \"GM\", 37.58))\n",
        "\n",
        "computeAmount(stocks)"
      ],
      "metadata": {
        "colab": {
          "base_uri": "https://localhost:8080/"
        },
        "id": "x3CP0pJ1mO0N",
        "outputId": "3bec48da-8d74-4c9d-c58a-3c8cdc7f81e7"
      },
      "execution_count": 77,
      "outputs": [
        {
          "output_type": "stream",
          "name": "stdout",
          "text": [
            "CAT\t$1223.75\n",
            "DD\t$419.5\n",
            "EK\t$-542.25\n",
            "GM\t$0.0\n"
          ]
        }
      ]
    }
  ]
}