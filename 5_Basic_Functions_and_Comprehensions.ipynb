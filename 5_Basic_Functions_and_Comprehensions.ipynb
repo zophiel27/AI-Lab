{
  "cells": [
    {
      "cell_type": "code",
      "execution_count": 8,
      "metadata": {},
      "outputs": [
        {
          "name": "stdout",
          "output_type": "stream",
          "text": [
            "(5, 35, 56, 80)\n"
          ]
        }
      ],
      "source": [
        "# Write a function which returns a tuple that is formed by multiplying adjacent elements\n",
        "\n",
        "def multiplyAdjacent(t):\n",
        "  # Using the tuple() method to make a tuple\n",
        "  return tuple(x * y for x, y in zip(t, t[1:]))\n",
        "  # if t is [1, 2, 3], then zip(t, t[1:]) will give pairs = [(1, 2), (2, 3)]\n",
        "  # t is assumed to be an iterable, like a list or a tuple\n",
        "  # t[1:] creates a new iterable that includes all elements of t starting from the second element (index 1) to the end\n",
        "\n",
        "tuple1 = (1, 5, 7, 8, 10)\n",
        "output = multiplyAdjacent(tuple1)\n",
        "print(output)\n"
      ]
    },
    {
      "cell_type": "code",
      "execution_count": 21,
      "metadata": {},
      "outputs": [
        {
          "name": "stdout",
          "output_type": "stream",
          "text": [
            "{1: 4, 2: 4, 3: 1, 4: 2, 5: 0, 6: 1, 7: 0, 8: 1}\n"
          ]
        }
      ],
      "source": [
        "# Write a function which constructs a dictionary where its keys are the integer\n",
        "# factors and values are the count of those factors when applied on a list of elements\n",
        "def factorCount(ls):\n",
        "\n",
        "  # assigning keys uptil the highest number in list\n",
        "  factor_dict = {i: 0 for i in range(1, max(ls) + 1)}\n",
        "\n",
        "  for num in ls:\n",
        "      for factor in range(1, num + 1):\n",
        "          if num % factor == 0:\n",
        "              factor_dict[factor] += 1\n",
        "\n",
        "  return factor_dict\n",
        "\n",
        "#main\n",
        "ls = [2, 4, 6, 8]\n",
        "d = factorCount(ls)\n",
        "print(d)"
      ]
    },
    {
      "cell_type": "code",
      "execution_count": 22,
      "metadata": {},
      "outputs": [
        {
          "name": "stdout",
          "output_type": "stream",
          "text": [
            "{'Kelly': {'designation': 'Application Developer', 'salary': 8000}, 'Emma': {'designation': 'Application Developer', 'salary': 8000}, 'John': {'designation': 'Application Developer', 'salary': 8000}}\n"
          ]
        }
      ],
      "source": [
        "\"\"\"Q2 - Initialize dictionary with default values. One line solution.\"\"\"\n",
        "\n",
        "employees = ['Kelly', 'Emma', 'John']\n",
        "defaults = {\"designation\": 'Application Developer', \"salary\": 8000}\n",
        "\n",
        "my_dictionary = {employees[i]:defaults for i in range(len(employees))}\n",
        "print(my_dictionary)\n"
      ]
    },
    {
      "cell_type": "code",
      "execution_count": null,
      "metadata": {},
      "outputs": [],
      "source": [
        "\"\"\"Q3 - Delete set of keys from a dictionary. Give one line solution.\n",
        "\n",
        "\"\"\"\n",
        "\n",
        "sampleDict = { \"name\": \"Kelly\", \"age\": 25, \"salary\": 8000, \"city\": \"New york\" }\n",
        "keysToRemove = [\"name\", \"salary\"]\n",
        "\n",
        "for keys in keysToRemove: del sampleDict[keys]\n",
        "print(sampleDict)"
      ]
    },
    {
      "cell_type": "code",
      "execution_count": 12,
      "metadata": {
        "colab": {
          "base_uri": "https://localhost:8080/"
        },
        "id": "riQqxpzv5_wg",
        "outputId": "37b66b6c-5182-40c0-f46d-dece486d8a9a"
      },
      "outputs": [
        {
          "name": "stdout",
          "output_type": "stream",
          "text": [
            "Enter a string: \n",
            "Before Reverse: ['h', 'e', 'l', 'l', 'o', ' ', 'w', 'O', 'r', 'l', 'D']\n",
            "After Reverse: ['D', 'l', 'r', 'O', 'w', ' ', 'o', 'l', 'l', 'e', 'h']\n"
          ]
        }
      ],
      "source": [
        "# Reverse of String\n",
        "def reverseString(ls):\n",
        "  i = 0\n",
        "  while(i < len(ls)/2):\n",
        "    x = ls[i]\n",
        "    ls[i] = ls[len(ls)-i-1]\n",
        "    ls[len(ls)-i-1] = x\n",
        "    i = i + 1\n",
        "\n",
        "print(\"Enter a string: \")\n",
        "ls = list(input())\n",
        "print(\"Before Reverse: \" + str(ls))\n",
        "reverseString(ls)\n",
        "print(\"After Reverse: \" + str(ls))"
      ]
    },
    {
      "cell_type": "code",
      "execution_count": null,
      "metadata": {
        "colab": {
          "base_uri": "https://localhost:8080/"
        },
        "id": "T-F7F6nr_dM5",
        "outputId": "317cdab5-62e9-4962-a7ba-0736c1ce3ab5"
      },
      "outputs": [
        {
          "name": "stdout",
          "output_type": "stream",
          "text": [
            "True\n"
          ]
        }
      ],
      "source": [
        "# Palindrome of the characters only\n",
        "def validPalindrome(ls):\n",
        "  i = 0\n",
        "  j = len(ls)-1\n",
        "  ls = ls.lower()\n",
        "\n",
        "  while(i < len(ls)/2):\n",
        "    while ls[i] == \" \" or ls[i] == \",\" or ls[i] == \":\":\n",
        "      i = i + 1\n",
        "    while ls[j] == \" \" or ls[j] == \",\" or ls[j] == \":\":\n",
        "      j = j - 1\n",
        "    if(ls[i] != ls[j]):\n",
        "      return False\n",
        "    i = i + 1\n",
        "    j = j - 1\n",
        "  return True\n",
        "\n",
        "\n",
        "s = \"A man, a plan, a canal: Panama\"\n",
        "output = validPalindrome(s)\n",
        "print(output)\n"
      ]
    },
    {
      "cell_type": "code",
      "execution_count": 20,
      "metadata": {
        "colab": {
          "base_uri": "https://localhost:8080/"
        },
        "id": "WhwXlYt3FPmz",
        "outputId": "167c9e70-37df-4d10-a18f-c4104e275f18"
      },
      "outputs": [
        {
          "name": "stdout",
          "output_type": "stream",
          "text": [
            "Input: 16\n",
            "Square Root: 4\n"
          ]
        }
      ],
      "source": [
        "# Square root of a number in whole number\n",
        "\n",
        "def sqrt(x):\n",
        "  return int(x) ** 0.5\n",
        "\n",
        "x = input()\n",
        "output = sqrt(x)\n",
        "print(\"Input: \" + str(x) + \"\\nSquare Root: \" + str(int(output)))\n"
      ]
    }
  ],
  "metadata": {
    "colab": {
      "provenance": []
    },
    "kernelspec": {
      "display_name": "Python 3",
      "name": "python3"
    },
    "language_info": {
      "codemirror_mode": {
        "name": "ipython",
        "version": 3
      },
      "file_extension": ".py",
      "mimetype": "text/x-python",
      "name": "python",
      "nbconvert_exporter": "python",
      "pygments_lexer": "ipython3",
      "version": "3.11.5"
    }
  },
  "nbformat": 4,
  "nbformat_minor": 0
}
