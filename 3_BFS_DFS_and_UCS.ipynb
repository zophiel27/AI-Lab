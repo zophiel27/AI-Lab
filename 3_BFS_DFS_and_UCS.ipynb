{
 "cells": [
  {
   "cell_type": "code",
   "execution_count": 3,
   "metadata": {},
   "outputs": [],
   "source": [
    "def readFile(filename):\n",
    "  cube = []\n",
    "  with open(filename, 'r') as f:\n",
    "    for line in f:\n",
    "      row = [int(char) for char in line.strip('\\n')] # removing the newlines using strip()\n",
    "      cube.append(row)\n",
    "  return cube"
   ]
  },
  {
   "cell_type": "code",
   "execution_count": 4,
   "metadata": {},
   "outputs": [
    {
     "name": "stdout",
     "output_type": "stream",
     "text": [
      "[[0, 0, 0, 0, 1, 0, 0], [1, 1, 0, 0, 0, 1, 1], [0, 1, 0, 1, 0, 0, 0], [1, 1, 0, 1, 1, 0, 1], [0, 1, 0, 1, 0, 0, 0], [0, 1, 1, 1, 0, 1, 1], [0, 0, 0, 0, 0, 0, 0]]\n"
     ]
    }
   ],
   "source": [
    "cube = readFile('input.txt')\n",
    "print(cube)"
   ]
  },
  {
   "cell_type": "code",
   "execution_count": 6,
   "metadata": {},
   "outputs": [
    {
     "name": "stdout",
     "output_type": "stream",
     "text": [
      "0 0 0 0 1 0 0 \n",
      "1 1 0 0 0 1 1 \n",
      "0 1 0 1 0 0 0 \n",
      "1 1 0 1 1 0 1 \n",
      "0 1 0 1 0 0 0 \n",
      "0 1 1 1 0 1 1 \n",
      "0 0 0 0 0 0 0 \n"
     ]
    }
   ],
   "source": [
    "def print_maze(maze):\n",
    "    for i in range(len(maze)):\n",
    "        for j in range(len(maze[0])):\n",
    "            print(maze[i][j], end = ' ')\n",
    "        print()\n",
    "\n",
    "print_maze(cube)"
   ]
  },
  {
   "cell_type": "code",
   "execution_count": 7,
   "metadata": {},
   "outputs": [],
   "source": [
    "def print_maze_with_path(maze, path):\n",
    "    for i in range(len(maze)):\n",
    "        for j in range(len(maze[0])):\n",
    "            if (i, j) == path[0]:\n",
    "                print(\"S\", end=\" \")\n",
    "            elif (i, j) == path[-1]:\n",
    "                print(\"G\", end=\" \")\n",
    "            elif (i, j) in path:\n",
    "                print(\"*\", end=\" \")\n",
    "            elif maze[i][j] == 0:\n",
    "                print(\"0\", end=\" \")\n",
    "            elif maze[i][j] == 1:\n",
    "                print(\"1\", end=\" \")\n",
    "            elif maze[i][j] == 2:\n",
    "                print(\"2\", end=\" \")\n",
    "        print()"
   ]
  },
  {
   "cell_type": "code",
   "execution_count": 9,
   "metadata": {},
   "outputs": [],
   "source": [
    "def BFS(cube):\n",
    "  n = m = len(cube)\n",
    "  visited = [[0 for i in range(m)] for i in range(n)] # declaring 2d visited array and a queue for bfs\n",
    "  queue = [(0, 0)] #starting point\n",
    "  parent = {}\n",
    "\n",
    "  queueIndex = 0 # for 'popping' from queue\n",
    "\n",
    "  while queueIndex < len(queue):\n",
    "      row, col = queue[queueIndex]\n",
    "      queueIndex += 1\n",
    "\n",
    "      # reached goal\n",
    "      if row == n - 1 and col == m - 1:\n",
    "          path = []\n",
    "          while (row, col) in parent:\n",
    "              path.append((row, col))\n",
    "              row, col = parent[(row, col)]\n",
    "          path.append((0, 0))\n",
    "          path.reverse()\n",
    "          return path\n",
    "\n",
    "      # if not\n",
    "      visited[row][col] = 1\n",
    "      moves = [(0, 1), (1, 0), (0, -1), (-1, 0)]\n",
    "      for dr, dc in moves:\n",
    "          new_row, new_col = row + dr, col + dc\n",
    "          if 0 <= new_row < n and 0 <= new_col < m and cube[new_row][new_col] == 0 and not visited[new_row][new_col]:\n",
    "              queue.append((new_row, new_col))\n",
    "              parent[(new_row, new_col)] = (row, col)\n",
    "  return -1"
   ]
  },
  {
   "cell_type": "code",
   "execution_count": 10,
   "metadata": {},
   "outputs": [],
   "source": [
    "def DFS(cube):\n",
    "  n = m = len(cube)\n",
    "  visited = [[0 for i in range(m)] for i in range(n)] # declaring 2d visited array and a queue for bfs\n",
    "  path = []\n",
    "  stack = [(0, 0)]\n",
    "\n",
    "  while stack:\n",
    "    row, col = stack.pop()\n",
    "\n",
    "    if not visited[row][col]:\n",
    "        path.append((row, col))\n",
    "        visited[row][col] = 1\n",
    "\n",
    "        # reached goal\n",
    "        if row == n - 1 and col == m - 1:\n",
    "            return path\n",
    "\n",
    "        # if not, check all neighbours\n",
    "        neighbors = [(row, col + 1), (row + 1, col), (row, col - 1), (row - 1, col)]\n",
    "        for r, c in neighbors:\n",
    "            if 0 <= r < n and 0 <= c < m and cube[r][c] == 0 and not visited[r][c]:\n",
    "                stack.append((r, c))\n",
    "\n",
    "  return -1"
   ]
  },
  {
   "cell_type": "code",
   "execution_count": 6,
   "metadata": {},
   "outputs": [
    {
     "name": "stdout",
     "output_type": "stream",
     "text": [
      "BFS Path: [(0, 0), (0, 1), (0, 2), (1, 2), (1, 3), (1, 4), (2, 4), (2, 5), (3, 5), (4, 5), (4, 4), (5, 4), (6, 4), (6, 5), (6, 6)]\n",
      "DFS Path: [(0, 0), (0, 1), (0, 2), (1, 2), (2, 2), (3, 2), (4, 2), (1, 3), (0, 3), (1, 4), (2, 4), (2, 5), (3, 5), (4, 5), (4, 4), (5, 4), (6, 4), (6, 3), (6, 2), (6, 1), (6, 0), (5, 0), (4, 0), (6, 5), (6, 6)]\n"
     ]
    }
   ],
   "source": [
    "print(\"BFS Path:\", BFS(cube))\n",
    "print(\"DFS Path:\", DFS(cube))"
   ]
  },
  {
   "cell_type": "code",
   "execution_count": 12,
   "metadata": {},
   "outputs": [
    {
     "name": "stdout",
     "output_type": "stream",
     "text": [
      "S * * 0 1 0 0 \n",
      "1 1 * * * 1 1 \n",
      "0 1 0 1 * * 0 \n",
      "1 1 0 1 1 * 1 \n",
      "0 1 0 1 * * 0 \n",
      "0 1 1 1 * 1 1 \n",
      "0 0 0 0 * * G \n",
      "\n",
      "S * * * 1 0 0 \n",
      "1 1 * * * 1 1 \n",
      "0 1 * 1 * * 0 \n",
      "1 1 * 1 1 * 1 \n",
      "* 1 * 1 * * 0 \n",
      "* 1 1 1 * 1 1 \n",
      "* * * * * * G \n"
     ]
    }
   ],
   "source": [
    "print_maze_with_path(cube, BFS(cube))\n",
    "print()\n",
    "print_maze_with_path(cube, DFS(cube))"
   ]
  },
  {
   "cell_type": "code",
   "execution_count": 7,
   "metadata": {},
   "outputs": [
    {
     "name": "stdout",
     "output_type": "stream",
     "text": [
      "Optimal Path: [1, 3, 4]\n",
      "Total Cost: 4\n"
     ]
    }
   ],
   "source": [
    "def ucs(graph, start, goal):\n",
    "    priority_queue = [(0, start, [])]  # (cost, node, path)\n",
    "    visited = set()\n",
    "\n",
    "    while priority_queue:\n",
    "        priority_queue.sort()  # Sort the priority queue based on the cost\n",
    "        cost, current_node, path = priority_queue.pop(0)  # Pop the node with the lowest cost\n",
    "        if current_node not in visited:\n",
    "            visited.add(current_node)\n",
    "            path = path + [current_node]\n",
    "\n",
    "            if current_node == goal:\n",
    "                return path, cost\n",
    "\n",
    "            for neighbor, neighbor_cost in graph.get(current_node, []):\n",
    "                if neighbor not in visited:\n",
    "                    priority_queue.append((cost + neighbor_cost, neighbor, path))\n",
    "\n",
    "    return None, float('inf')\n",
    "\n",
    "graph = {\n",
    "    1: [(2, 3), (3, 2)], # node 1 is connected to 2 and 3 with costs 3 and 2 resp.\n",
    "    2: [(1, 3), (4, 3)],\n",
    "    3: [(1, 2), (4, 2)],\n",
    "    4: [(2, 3), (3, 2)],\n",
    "}\n",
    "\n",
    "start_node = 1\n",
    "goal_node = 4\n",
    "optimal_path, total_cost = ucs(graph, start_node, goal_node)\n",
    "if optimal_path:\n",
    "    print(\"Optimal Path:\", optimal_path)\n",
    "    print(\"Total Cost:\", total_cost)\n",
    "else:\n",
    "    print(\"No path found from\", start_node, \"to\", goal_node)"
   ]
  }
 ],
 "metadata": {
  "kernelspec": {
   "display_name": "Python 3",
   "language": "python",
   "name": "python3"
  },
  "language_info": {
   "codemirror_mode": {
    "name": "ipython",
    "version": 3
   },
   "file_extension": ".py",
   "mimetype": "text/x-python",
   "name": "python",
   "nbconvert_exporter": "python",
   "pygments_lexer": "ipython3",
   "version": "3.11.5"
  }
 },
 "nbformat": 4,
 "nbformat_minor": 2
}
